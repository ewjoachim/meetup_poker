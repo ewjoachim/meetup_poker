{
 "cells": [
  {
   "cell_type": "code",
   "execution_count": 1,
   "metadata": {},
   "outputs": [],
   "source": [
    "from itertools import combinations, permutations"
   ]
  },
  {
   "cell_type": "code",
   "execution_count": 2,
   "metadata": {},
   "outputs": [],
   "source": [
    "from collections import  Counter\n",
    "class myCounter(Counter):\n",
    "    def max(self, n=1):\n",
    "        return [v for k, v in self.most_common(n)]"
   ]
  },
  {
   "cell_type": "code",
   "execution_count": 3,
   "metadata": {},
   "outputs": [],
   "source": [
    "l_value = ('1', '2', '3', '4', '5', '6', '7', '8', '9', '10', 'V', 'D', 'R', 'A')\n",
    "l_color = ('T', 'P', 'C', 'K')\n",
    "\n",
    "\n",
    "NOTHING, PAIR, DOUBLE_PAIR, THREE_OF_KIND, COLOR,  QUINTE,  FULL_HOUSE, POKER, QUINTE_FLUSH = range(9) \n",
    "str_combis = (\"Rien\", \"Paire\", \"Double-Paire\",\"Brelan\", \"Couleur\", \"Suite\", \"Full\", \"Carre\", \"Quinte Flush\")\n",
    "dict_combi = { pos:str_ for pos, str_ in enumerate(str_combis) }"
   ]
  },
  {
   "cell_type": "code",
   "execution_count": 4,
   "metadata": {},
   "outputs": [],
   "source": [
    "l_results = (\n",
    "            COLOR,\n",
    "            QUINTE_FLUSH,\n",
    "            PAIR,\n",
    "            NOTHING,\n",
    "            THREE_OF_KIND,\n",
    "            DOUBLE_PAIR,\n",
    "            POKER,\n",
    "            FULL_HOUSE,\n",
    "            QUINTE\n",
    "            )\n",
    "l_hands =   (\n",
    "            (('1','C'),('7','C'),('10','C'),('D','C'),('5','C')), # couleur à la dame\n",
    "            (('1','C'),('3','C'),('5','C'),('2','C'),('4','C')), # quinte flush \n",
    "            (('6','C'),('3','P'),('5','K'),('2','C'),('6','K'),('7','K')), # Pair de 6 - kicker au 7 \n",
    "            (('1','C'),('3','P'),('R','K'),('2','C'),('6','K')), # nothing - Kiker à l'AS\n",
    "            (('V','C'),('1','P'),('V','K'),('D','T'),('R','T'), ('V','T')), # three}  \n",
    "            (('1','C'),('3','P'),('1','K'),('3','C'),('6','K')),  # two pair\n",
    "            (('1','C'),('1','P'),('1','K'),('D','T'),('1','T')), # poker\n",
    "            (('1','C'),('3','P'),('1','K'),('D','C'),('3','K'),('6','C'),('1','T')),  # full house\n",
    "            (('1','C'),('3','P'),('4','K'),('D','C'),('3','K'),('2','C'),('5','T')) # quinte\n",
    "            )\n",
    "m_hands =   (\n",
    "            (('R','K'),('7','K'),('10','K'),('D','K'),('5','K')), # couleur au roi \n",
    "            (('6','C'),('3','C'),('5','C'),('2','C'),('4','C')), # quinte flush \n",
    "            (('6','C'),('3','P'),('8','K'),('2','C'),('6','K'),('V','K')), # Pair de 6 - kicker au V\n",
    "            (('4','C'),('3','P'),('R','K'),('2','C'),('6','K')), # nothing - Kicker au 4\n",
    "            (('V','C'),('1','P'),('V','K'),('D','T'),('R','T'),('V','T')), # three}  \n",
    "            (('1','C'),('R','P'),('1','K'),('3','C'),('6','K')),  # two pair\n",
    "            (('1','C'),('1','P'),('1','K'),('D','T'),('1','T')), # poker\n",
    "            (('1','C'),('3','P'),('1','K'),('D','C'),('3','K'),('6','C'),('1','T')),  # full house\n",
    "            (('1','C'),('7','P'),('4','K'),('6','C'),('3','K'),('2','C'),('5','T')) # quinte\n",
    "            )"
   ]
  },
  {
   "cell_type": "code",
   "execution_count": 5,
   "metadata": {},
   "outputs": [],
   "source": [
    "def checkCards(logger, hand):\n",
    "    \"\"\"\n",
    "    \"\"\"\n",
    "    # valid cards\n",
    "    for value, color in hand:\n",
    "        if value not in l_value or color not in l_color:\n",
    "            return False\n",
    "    \n",
    "    # only distinct cards\n",
    "    return len(set(hand)) == len(hand)\n"
   ]
  },
  {
   "cell_type": "code",
   "execution_count": 6,
   "metadata": {},
   "outputs": [],
   "source": [
    "def to_numerical(value_list):\n",
    "    return [l_value.index(v) for v in value_list]"
   ]
  },
  {
   "cell_type": "code",
   "execution_count": 7,
   "metadata": {},
   "outputs": [],
   "source": [
    "def to_str_value(num_list):\n",
    "    return [l_value[i] for i in num_list]"
   ]
  },
  {
   "cell_type": "code",
   "execution_count": 8,
   "metadata": {},
   "outputs": [],
   "source": [
    "def is_same_color(color_list):\n",
    "    return myCounter(color_list).max()[0] == len(color_list)"
   ]
  },
  {
   "cell_type": "code",
   "execution_count": 9,
   "metadata": {},
   "outputs": [],
   "source": [
    "def is_a_quinte(value_list):\n",
    "    tmp = value_list.copy()\n",
    "    if 0 in value_list:\n",
    "        tmp.append(13)\n",
    "    for perm in permutations(tmp, len(value_list)):\n",
    "        if all(p == perm[0] + i for i, p in enumerate(perm)):\n",
    "            return True\n",
    "    return False"
   ]
  },
  {
   "cell_type": "code",
   "execution_count": 10,
   "metadata": {},
   "outputs": [],
   "source": [
    "def has_duplicates(value_list):\n",
    "    cnt = myCounter(value_list)\n",
    "    max_cnts = cnt.max(2)\n",
    "    if max_cnts[0] < 2:\n",
    "        return False\n",
    "    if max_cnts[0] == 4:\n",
    "        return (POKER, cnt.most_common()[0][0],\n",
    "                *sorted(set(value_list) - {cnt.most_common()[0][0]}, reverse=True))\n",
    "    if max_cnts[0] == 3:\n",
    "        if max_cnts[1] == 2:\n",
    "            return (FULL_HOUSE, cnt.most_common()[0][0], cnt.most_common()[1][0],\n",
    "                *sorted(set(value_list) - {cnt.most_common()[0][0], cnt.most_common()[0][1]}, reverse=True))\n",
    "        else:\n",
    "            return (THREE_OF_KIND, cnt.most_common()[0][0],\n",
    "                *sorted(set(value_list) - {cnt.most_common()[0][0]}, reverse=True))\n",
    "    if max_cnts[0] == 2:\n",
    "        if max_cnts[1] == 2:\n",
    "            return(DOUBLE_PAIR, cnt.most_common()[0][0], cnt.most_common()[1][0],\n",
    "                *sorted(set(value_list) - {cnt.most_common()[0][0], cnt.most_common()[0][1]}, reverse=True))\n",
    "        else:\n",
    "            return(PAIR, cnt.most_common()[0][0],\n",
    "                *sorted(set(value_list) - {cnt.most_common()[0][0]}, reverse=True))          \n",
    "    "
   ]
  },
  {
   "cell_type": "code",
   "execution_count": 11,
   "metadata": {},
   "outputs": [],
   "source": [
    "def is_hand_type(hand):\n",
    "    values, colors = zip(*hand)\n",
    "    values = to_numerical(values)\n",
    "    same_color = is_same_color(colors)\n",
    "    if is_a_quinte(values):\n",
    "        if same_color:\n",
    "            return (QUINTE_FLUSH, min(values) + 5)\n",
    "        else:\n",
    "            return (QUINTE, min(values) + 5)\n",
    "    return has_duplicates(values) or \\\n",
    "            ((COLOR, *sorted(values, reverse=True)) if same_color \n",
    "             else (NOTHING, *sorted(values, reverse=True)))    \n",
    "            "
   ]
  },
  {
   "cell_type": "code",
   "execution_count": 12,
   "metadata": {},
   "outputs": [],
   "source": [
    "def getBestHandCombiAndCombiStr(logger, hand):\n",
    "    return max(is_hand_type(poker_hand) for poker_hand in combinations(hand, 5))"
   ]
  },
  {
   "cell_type": "code",
   "execution_count": 13,
   "metadata": {},
   "outputs": [],
   "source": [
    "def prettify(tup):\n",
    "    return \"Best hand: \" + str_combis[tup[0]] + \" \" + l_value[tup[1] or 13]"
   ]
  },
  {
   "cell_type": "code",
   "execution_count": null,
   "metadata": {},
   "outputs": [],
   "source": []
  },
  {
   "cell_type": "code",
   "execution_count": 14,
   "metadata": {},
   "outputs": [
    {
     "name": "stdout",
     "output_type": "stream",
     "text": [
      "Best hand: Couleur D\n",
      "Best hand: Quinte Flush 6\n",
      "Best hand: Paire 6\n",
      "Best hand: Rien R\n",
      "Best hand: Brelan V\n",
      "Best hand: Double-Paire A\n",
      "Best hand: Carre A\n",
      "Best hand: Full A\n",
      "Best hand: Suite 6\n"
     ]
    }
   ],
   "source": [
    "for hand in l_hands:\n",
    "    print(prettify(getBestHandCombiAndCombiStr('', hand)))"
   ]
  },
  {
   "cell_type": "code",
   "execution_count": 15,
   "metadata": {},
   "outputs": [
    {
     "name": "stdout",
     "output_type": "stream",
     "text": [
      "Best hand: Couleur R\n",
      "Best hand: Quinte Flush 7\n",
      "Best hand: Paire 6\n",
      "Best hand: Rien R\n",
      "Best hand: Brelan V\n",
      "Best hand: Paire A\n",
      "Best hand: Carre A\n",
      "Best hand: Full A\n",
      "Best hand: Suite 8\n"
     ]
    }
   ],
   "source": [
    "for hand in m_hands:\n",
    "    print(prettify(getBestHandCombiAndCombiStr('', hand)))"
   ]
  },
  {
   "cell_type": "code",
   "execution_count": 17,
   "metadata": {},
   "outputs": [
    {
     "name": "stdout",
     "output_type": "stream",
     "text": [
      "m\n",
      "m\n",
      "m\n",
      "m\n",
      "cannot determine\n",
      "l\n",
      "cannot determine\n",
      "cannot determine\n",
      "m\n"
     ]
    }
   ],
   "source": [
    "for hand1, hand2 in zip(l_hands, m_hands):\n",
    "    if getBestHandCombiAndCombiStr('', hand1) > getBestHandCombiAndCombiStr('', hand2):\n",
    "        print('l')\n",
    "    elif getBestHandCombiAndCombiStr('', hand1) == getBestHandCombiAndCombiStr('', hand2):\n",
    "        print('cannot determine')\n",
    "    else:\n",
    "        print('m')"
   ]
  },
  {
   "cell_type": "code",
   "execution_count": 31,
   "metadata": {},
   "outputs": [
    {
     "data": {
      "text/plain": [
       "True"
      ]
     },
     "execution_count": 31,
     "metadata": {},
     "output_type": "execute_result"
    }
   ],
   "source": [
    "(4, 11) < (4, 12)"
   ]
  },
  {
   "cell_type": "code",
   "execution_count": null,
   "metadata": {},
   "outputs": [],
   "source": []
  },
  {
   "cell_type": "code",
   "execution_count": null,
   "metadata": {},
   "outputs": [],
   "source": []
  },
  {
   "cell_type": "code",
   "execution_count": null,
   "metadata": {},
   "outputs": [],
   "source": []
  },
  {
   "cell_type": "code",
   "execution_count": null,
   "metadata": {},
   "outputs": [],
   "source": []
  },
  {
   "cell_type": "code",
   "execution_count": null,
   "metadata": {},
   "outputs": [],
   "source": []
  },
  {
   "cell_type": "code",
   "execution_count": null,
   "metadata": {},
   "outputs": [],
   "source": []
  }
 ],
 "metadata": {
  "kernelspec": {
   "display_name": "Python 3",
   "language": "python",
   "name": "python3"
  },
  "language_info": {
   "codemirror_mode": {
    "name": "ipython",
    "version": 3
   },
   "file_extension": ".py",
   "mimetype": "text/x-python",
   "name": "python",
   "nbconvert_exporter": "python",
   "pygments_lexer": "ipython3",
   "version": "3.6.2"
  }
 },
 "nbformat": 4,
 "nbformat_minor": 2
}
