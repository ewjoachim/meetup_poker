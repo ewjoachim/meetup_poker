{
 "cells": [
  {
   "cell_type": "code",
   "execution_count": 1,
   "metadata": {},
   "outputs": [],
   "source": [
    "\n",
    "import collections\n",
    "\n",
    "l_value = {value: index for index, value in enumerate(('1', '2', '3', '4', '5', '6', '7', '8', '9', '10', 'V', 'D', 'R', 'A'))}\n",
    "l_color = ('T', 'P', 'C', 'K')\n",
    "\n",
    "\n",
    "NOTHING, PAIR, DOUBLE_PAIR, THREE_OF_KIND, COLOR,  QUINTE,  FULL_HOUSE, POKER, QUINTE_FLUSH = range(9) \n",
    "str_combis = (\"Rien\", \"Paire\", \"Double-Paire\",\"Brelan\", \"Couleur\", \"Suite\", \"Full\", \"Carre\", \"Quinte Flush\")\n",
    "dict_combi = { pos:str for pos, str in enumerate(str_combis) }\n",
    "\n",
    "\n",
    "def checkCards(hand):\n",
    "    \"\"\"\n",
    "    \"\"\"\n",
    "    # valid cards\n",
    "    for value, color in hand:\n",
    "        if value not in l_value or color not in l_color:\n",
    "            return False\n",
    "    \n",
    "    # only distinct cards\n",
    "    return len(collections.Counter(hand)) == len(hand)\n",
    "\n",
    "\n",
    "def getBestHandCombiAndCombiStr(logger,hands):\n",
    "    \"\"\"\n",
    "    \"\"\"\n",
    "    return \"\", \"\", str_combis[NOTHING]\n",
    "    \n",
    "def main(logger, l_hands):\n",
    "    \"\"\"\n",
    "    \"\"\"\n",
    "    for hands in l_hands:\n",
    "        if( checkCards(logger, hands)):\n",
    "            str_best, str_combi, str_score = getBestHandCombiAndCombiStr(logger,hands)\n",
    "            logger.info(\"The best is %s -> %s\", str_best, str_score)\n",
    "\n",
    "        \n",
    "l_results = (\n",
    "            COLOR,\n",
    "            QUINTE_FLUSH,\n",
    "            PAIR,\n",
    "            NOTHING,\n",
    "            THREE_OF_KIND,\n",
    "            DOUBLE_PAIR,\n",
    "            POKER,\n",
    "            FULL_HOUSE,\n",
    "            QUINTE\n",
    "            )\n",
    "l_hands =   (\n",
    "            (('1','C'),('7','C'),('10','C'),('D','C'),('5','C')), # couleur à la dame\n",
    "            (('1','C'),('3','C'),('5','C'),('2','C'),('4','C')), # quinte flush \n",
    "            (('6','C'),('3','P'),('5','K'),('2','C'),('6','K'),('7','K')), # Pair de 6 - kicker au 7 \n",
    "            (('1','C'),('3','P'),('R','K'),('2','C'),('6','K')), # nothing - Kiker à l'AS\n",
    "            (('V','C'),('1','P'),('V','K'),('D','T'),('R','T'), ('V','T')), # three}  \n",
    "            (('1','C'),('3','P'),('1','K'),('3','C'),('6','K')),  # two pair\n",
    "            (('1','C'),('1','P'),('1','K'),('D','T'),('1','T')), # poker\n",
    "            (('1','C'),('3','P'),('1','K'),('D','C'),('3','K'),('6','C'),('1','T')),  # full house\n",
    "            (('1','C'),('3','P'),('4','K'),('D','C'),('3','K'),('2','C'),('5','T')) # quinte\n",
    "            )\n",
    "m_hands =   (\n",
    "            (('R','K'),('7','K'),('10','K'),('D','K'),('5','K')), # couleur au roi \n",
    "            (('1','C'),('3','C'),('5','C'),('2','C'),('4','C')), # quinte flush \n",
    "            (('6','C'),('3','P'),('8','K'),('2','C'),('6','K'),('V','K')), # Pair de 6 - kicker au V\n",
    "            (('4','C'),('3','P'),('R','K'),('2','C'),('6','K')), # nothing - Kicker au 4\n",
    "            (('V','C'),('1','P'),('V','K'),('D','T'),('R','T'),('V','T')), # three}  \n",
    "            (('1','C'),('R','P'),('1','K'),('3','C'),('6','K')),  # two pair\n",
    "            (('1','C'),('1','P'),('1','K'),('D','T'),('1','T')), # poker\n",
    "            (('1','C'),('3','P'),('1','K'),('D','C'),('3','K'),('6','C'),('1','T')),  # full house\n",
    "            (('1','C'),('7','P'),('4','K'),('6','C'),('3','K'),('2','C'),('5','T')) # quinte\n",
    "            )\n",
    "\n",
    "    "
   ]
  },
  {
   "cell_type": "code",
   "execution_count": 2,
   "metadata": {},
   "outputs": [
    {
     "data": {
      "text/plain": [
       "True"
      ]
     },
     "execution_count": 2,
     "metadata": {},
     "output_type": "execute_result"
    }
   ],
   "source": [
    "all(checkCards(hand) for hand in l_hands)"
   ]
  },
  {
   "cell_type": "code",
   "execution_count": 3,
   "metadata": {},
   "outputs": [],
   "source": [
    "def find_quinte(hand):\n",
    "    values = sorted({l_value[value] for value, color in hand})\n",
    "    if len(values) < 5:\n",
    "        return False\n",
    "    for i in range(len(values) - 4):\n",
    "        sublist = values[i:i+5]\n",
    "        if sublist[-1] - sublist[0] == 4:\n",
    "            return True\n",
    "    return False\n",
    "    "
   ]
  },
  {
   "cell_type": "code",
   "execution_count": 4,
   "metadata": {},
   "outputs": [],
   "source": [
    "def find_color(hand):\n",
    "    colors = {color for value, color in hand}\n",
    "    return len(colors) == 1"
   ]
  },
  {
   "cell_type": "code",
   "execution_count": 5,
   "metadata": {},
   "outputs": [],
   "source": [
    "def find_poker(hand):\n",
    "    return next(find_nuplets(hand, 4), False) is not False"
   ]
  },
  {
   "cell_type": "code",
   "execution_count": 6,
   "metadata": {},
   "outputs": [],
   "source": [
    "def find_nuplets(hand, number):\n",
    "    values = [value for value, color in hand]\n",
    "    for value, count in collections.Counter(values).items():\n",
    "        if number == count:\n",
    "            yield value"
   ]
  },
  {
   "cell_type": "code",
   "execution_count": 8,
   "metadata": {},
   "outputs": [],
   "source": [
    "def find_quinte_flush(hand):\n",
    "    return find_color(hand) and find_quinte(hand)"
   ]
  },
  {
   "cell_type": "code",
   "execution_count": 9,
   "metadata": {},
   "outputs": [],
   "source": [
    "def find_full_house(hand):\n",
    "    triplet_values = set(find_nuplets(hand, 3))\n",
    "    pair_values = set(find_nuplets(hand, 2))\n",
    "    return len((triplet_values | pair_values) - (triplet_values & pair_values) - {None}) == 2"
   ]
  },
  {
   "cell_type": "code",
   "execution_count": null,
   "metadata": {},
   "outputs": [],
   "source": [
    "def find_three_of_kind(hand):\n",
    "    return bool(next(find_nuplets(hand, 3), False))"
   ]
  },
  {
   "cell_type": "code",
   "execution_count": 10,
   "metadata": {},
   "outputs": [],
   "source": [
    "def find_pair(hand):\n",
    "    return bool(next(find_nuplets(hand, 2), False))"
   ]
  },
  {
   "cell_type": "code",
   "execution_count": 11,
   "metadata": {},
   "outputs": [],
   "source": [
    "def find_double_pair(hand):\n",
    "    pair_values = set(find_nuplets(hand, 2))\n",
    "    return len(pair_values - {None}) >= 2"
   ]
  },
  {
   "cell_type": "code",
   "execution_count": 13,
   "metadata": {},
   "outputs": [],
   "source": [
    "funcs = [\n",
    "    find_quinte_flush,\n",
    "    find_poker,\n",
    "    find_full_house,\n",
    "    find_quinte,\n",
    "    find_color,\n",
    "    find_three_of_kind,\n",
    "    find_double_pair,\n",
    "    find_pair,\n",
    "]\n",
    "def main(hands):\n",
    "    for hand in hands:\n",
    "        for func in funcs:\n",
    "            if func(hand):\n",
    "                print(func.__name__)\n",
    "                break\n",
    "        else:\n",
    "            print(\"Nothing\")"
   ]
  },
  {
   "cell_type": "code",
   "execution_count": 14,
   "metadata": {},
   "outputs": [
    {
     "name": "stdout",
     "output_type": "stream",
     "text": [
      "find_color\n",
      "find_quinte_flush\n",
      "find_pair\n",
      "Nothing\n",
      "find_three_of_kind\n",
      "find_full_house\n",
      "find_poker\n",
      "find_full_house\n",
      "find_quinte\n"
     ]
    }
   ],
   "source": [
    "main(l_hands)"
   ]
  },
  {
   "cell_type": "code",
   "execution_count": null,
   "metadata": {},
   "outputs": [],
   "source": []
  }
 ],
 "metadata": {
  "kernelspec": {
   "display_name": "Python 3",
   "language": "python",
   "name": "python3"
  },
  "language_info": {
   "codemirror_mode": {
    "name": "ipython",
    "version": 3
   },
   "file_extension": ".py",
   "mimetype": "text/x-python",
   "name": "python",
   "nbconvert_exporter": "python",
   "pygments_lexer": "ipython3",
   "version": "3.6.2"
  }
 },
 "nbformat": 4,
 "nbformat_minor": 2
}
